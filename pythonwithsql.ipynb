{
  "nbformat": 4,
  "nbformat_minor": 0,
  "metadata": {
    "colab": {
      "name": "pythonwithsql.ipynb",
      "provenance": [],
      "collapsed_sections": [],
      "authorship_tag": "ABX9TyPgnol9iKgdFcTW63qyXNjH",
      "include_colab_link": true
    },
    "kernelspec": {
      "name": "python3",
      "display_name": "Python 3"
    },
    "language_info": {
      "name": "python"
    }
  },
  "cells": [
    {
      "cell_type": "markdown",
      "metadata": {
        "id": "view-in-github",
        "colab_type": "text"
      },
      "source": [
        "<a href=\"https://colab.research.google.com/github/JeswinThomasAJ/Python-with-SQL/blob/main/pythonwithsql.ipynb\" target=\"_parent\"><img src=\"https://colab.research.google.com/assets/colab-badge.svg\" alt=\"Open In Colab\"/></a>"
      ]
    },
    {
      "cell_type": "code",
      "execution_count": 1,
      "metadata": {
        "id": "HZGAn8se_02j",
        "colab": {
          "base_uri": "https://localhost:8080/"
        },
        "outputId": "41fb13ff-75b4-4dc5-fc0c-9943b00498fc"
      },
      "outputs": [
        {
          "output_type": "stream",
          "name": "stdout",
          "text": [
            "Opened database successfully\n"
          ]
        }
      ],
      "source": [
        "import sqlite3\n",
        "conn = sqlite3.connect('test.db')\n",
        "print('Opened database successfully')"
      ]
    },
    {
      "cell_type": "code",
      "source": [
        "import sqlite3\n",
        "\n",
        " \n",
        "conn = sqlite3.connect('NeDB.db')\n",
        " \n",
        "cursor = conn.cursor()\n",
        "\n",
        "\n",
        "cursor.execute(\"DROP TABLE IF EXISTS EMPLOYEE\")\n",
        "\n",
        "X= '''CREATE TABLE IF NOT EXISTS projects (\n",
        "\tid integer PRIMARY KEY,\n",
        "\tname text NOT NULL,\n",
        "\tbegin_date text,\n",
        "\tend_date text\n",
        "); '''\n",
        "conn.execute(X)\n",
        "print(\"Table created\")\n",
        " \n",
        "conn.commit()\n",
        "\n",
        " \n",
        "conn.close()"
      ],
      "metadata": {
        "colab": {
          "base_uri": "https://localhost:8080/"
        },
        "id": "080PWvMD3t3v",
        "outputId": "3c90ca95-952a-4cd3-f7f9-02422b57eb5a"
      },
      "execution_count": 2,
      "outputs": [
        {
          "output_type": "stream",
          "name": "stdout",
          "text": [
            "Table created\n"
          ]
        }
      ]
    },
    {
      "cell_type": "code",
      "source": [
        "X = sqlite3.connect('NeDB.db')\n",
        " \n",
        "Y = X.cursor()\n",
        "\n",
        " \n",
        "\n",
        " \n",
        "Y.execute(\"INSERT INTO Employee VALUES ('2020-01-01','John','Adam',32)\")\n",
        " \n",
        "X.commit()\n",
        "\n",
        "Y.close()"
      ],
      "metadata": {
        "id": "IeE05BUA3vur"
      },
      "execution_count": 5,
      "outputs": []
    },
    {
      "cell_type": "code",
      "source": [
        "X = sqlite3.connect('NeDB.db')\n",
        " \n",
        "Y = X.cursor()\n",
        "\n",
        "\n",
        "Y.execute(\"INSERT INTO Employee VALUES ('2020-01-01','John','Adam',32),('2020-01-01','Mike','Joseph',30),('2020-01-01','Ann','Maria',32);\")\n",
        "\n",
        " \n",
        "X.commit()\n",
        "\n",
        "Y.close()"
      ],
      "metadata": {
        "id": "ViwHwAAc5-RB"
      },
      "execution_count": 7,
      "outputs": []
    },
    {
      "cell_type": "code",
      "source": [
        "conn = sqlite3.connect('NewDB.db')\n",
        "\n",
        " \n",
        "cursor = conn.cursor()\n",
        "\n",
        " \n",
        "table =\"\"\"CREATE TABLE STUDENT(NAME VARCHAR(255), CLASS VARCHAR(255), SECTION VARCHAR(255));\"\"\"\n",
        "cursor.execute(table)\n",
        "\n",
        "students = [('John', '8', 'A'),\n",
        "   ('Adam', '8', 'B'),\n",
        "   ('Ann', '10', 'A'),\n",
        "]\n",
        "\n",
        "cursor.executemany('INSERT INTO STUDENT VALUES (?,?,?)', students)\n",
        "\n",
        "print(\"Data Inserted in the table: \")\n",
        "data=cursor.execute('''SELECT * FROM STUDENT''')\n",
        "for row in data:\n",
        "\tprint(row)\n",
        "\n",
        "\n",
        "conn.commit()\n",
        "\n",
        "conn.close()\n"
      ],
      "metadata": {
        "colab": {
          "base_uri": "https://localhost:8080/"
        },
        "id": "KoDLA4Ee8T4P",
        "outputId": "0f3cf129-5e74-417f-dc53-085ab5106bce"
      },
      "execution_count": 8,
      "outputs": [
        {
          "output_type": "stream",
          "name": "stdout",
          "text": [
            "Data Inserted in the table: \n",
            "('John', '8', 'A')\n",
            "('Adam', '8', 'B')\n",
            "('Ann', '10', 'A')\n"
          ]
        }
      ]
    },
    {
      "cell_type": "code",
      "source": [
        "\n",
        "conn = sqlite3.connect('NewDB.db')\n",
        "\n",
        " \n",
        "cursor = conn.cursor()\n",
        "\n",
        " \n",
        "\n",
        "\n",
        "\n",
        "cursor.execute('''INSERT INTO STUDENT VALUES ('John', '8', 'A')''')\n",
        "cursor.execute('''INSERT INTO STUDENT VALUES ('Adam', '8', 'B')''')\n",
        "cursor.execute('''INSERT INTO STUDENT VALUES ('Ann', '10', 'A')''')\n",
        "\n",
        "\n",
        "print(\"Data Inserted in the table: \")\n",
        "data=cursor.execute('''SELECT * FROM STUDENT''')\n",
        "for row in data:\n",
        "\tprint(row)\n",
        "\n",
        "\n",
        "conn.commit()\n",
        "\n",
        "conn.close()"
      ],
      "metadata": {
        "colab": {
          "base_uri": "https://localhost:8080/"
        },
        "id": "N-VCO2AjDFm5",
        "outputId": "eb62636a-435c-4e3e-b7db-e0fdeaf9a770"
      },
      "execution_count": 10,
      "outputs": [
        {
          "output_type": "stream",
          "name": "stdout",
          "text": [
            "Data Inserted in the table: \n",
            "('John', '8', 'A')\n",
            "('Adam', '8', 'B')\n",
            "('Ann', '10', 'A')\n",
            "('John', '8', 'A')\n",
            "('Adam', '8', 'B')\n",
            "('Ann', '10', 'A')\n"
          ]
        }
      ]
    },
    {
      "cell_type": "code",
      "source": [
        "conn = sqlite3.connect('NewDB.db')\n",
        "\n",
        " \n",
        "cursor = conn.cursor()\n",
        "\n",
        "cursor.execute('''INSERT INTO STUDENT VALUES ('John', '8', 'A')''')\n",
        "cursor.execute('''INSERT INTO STUDENT VALUES ('Adam', '8', 'B')''')\n",
        "cursor.execute('''INSERT INTO STUDENT VALUES ('Ann', '10', 'A')''')\n",
        "\n",
        "\n",
        "cursor.execute(\"SELECT * FROM STUDENT WHERE CLASS = '10'\")\n",
        "\n",
        "print(cursor.fetchall())\n",
        "  \n",
        "conn.commit()\n",
        "conn.close()\n",
        "\n",
        "\n",
        "conn.close()"
      ],
      "metadata": {
        "colab": {
          "base_uri": "https://localhost:8080/"
        },
        "id": "OUP1dr9kDU8J",
        "outputId": "b29d82ac-ddc2-4a13-97a7-a2e96f84f3a6"
      },
      "execution_count": 12,
      "outputs": [
        {
          "output_type": "stream",
          "name": "stdout",
          "text": [
            "[('Ann', '10', 'A'), ('Ann', '10', 'A'), ('Ann', '10', 'A')]\n"
          ]
        }
      ]
    },
    {
      "cell_type": "code",
      "source": [
        "\n",
        "conn = sqlite3.connect('NewDB.db')\n",
        "\n",
        " \n",
        "cursor = conn.cursor()\n",
        "\n",
        " \n",
        "cursor.execute('''INSERT INTO STUDENT VALUES ('John', '8', 'A')''')\n",
        "cursor.execute('''INSERT INTO STUDENT VALUES ('Adam', '8', 'B')''')\n",
        "cursor.execute('''INSERT INTO STUDENT VALUES ('Ann', '10', 'A')''')\n",
        "\n",
        "\n",
        "cursor.execute(\"SELECT * FROM STUDENT WHERE NAME Like'A%'\")\n",
        "\n",
        "print(cursor.fetchall())\n",
        "  \n",
        "conn.commit()\n",
        "conn.close()\n",
        "\n",
        "\n",
        "conn.close()"
      ],
      "metadata": {
        "colab": {
          "base_uri": "https://localhost:8080/"
        },
        "id": "xeLmK227DoEB",
        "outputId": "d33ada3b-f3ac-4c51-a4f4-78203e8db9ce"
      },
      "execution_count": 14,
      "outputs": [
        {
          "output_type": "stream",
          "name": "stdout",
          "text": [
            "[('Adam', '8', 'B'), ('Ann', '10', 'A'), ('Adam', '8', 'B'), ('Ann', '10', 'A'), ('Adam', '8', 'B'), ('Ann', '10', 'A'), ('Adam', '8', 'B'), ('Ann', '10', 'A')]\n"
          ]
        }
      ]
    },
    {
      "cell_type": "code",
      "source": [
        "conn = sqlite3.connect('NewDB.db')\n",
        "\n",
        " \n",
        "cursor = conn.cursor()\n",
        "\n",
        "cursor.execute('''INSERT INTO STUDENT VALUES('Adam','10','A')''')\n",
        "cursor.execute('''INSERT INTO STUDENT VALUES('Adam','8','B')''')\n",
        "cursor.execute('''INSERT INTO STUDENT VALUES('Adam','10','A')''')\n",
        "\n",
        "cursor.execute('SELECT *FROM STUDENT ORDER BY NAME')\n",
        "\n",
        "print(cursor.fetchall())\n",
        "conn.commit()\n",
        "conn.close()"
      ],
      "metadata": {
        "colab": {
          "base_uri": "https://localhost:8080/"
        },
        "id": "ZnxglwPJD__0",
        "outputId": "4730ee6d-5a1b-41cc-c92e-07cec5eed020"
      },
      "execution_count": 18,
      "outputs": [
        {
          "output_type": "stream",
          "name": "stdout",
          "text": [
            "[('Adam', '8', 'B'), ('Adam', '8', 'B'), ('Adam', '8', 'B'), ('Adam', '8', 'B'), ('Adam', '10', 'A'), ('Adam', '8', 'B'), ('Adam', '10', 'A'), ('Adam', '10', 'A'), ('Adam', '8', 'B'), ('Adam', '10', 'A'), ('Ann', '10', 'A'), ('Ann', '10', 'A'), ('Ann', '10', 'A'), ('Ann', '10', 'A'), ('John', '8', 'A'), ('John', '8', 'A'), ('John', '8', 'A'), ('John', '8', 'A')]\n"
          ]
        }
      ]
    },
    {
      "cell_type": "code",
      "source": [
        "conn = sqlite3.connect('NewDB.db')\n",
        "\n",
        " \n",
        "cursor = conn.cursor()\n",
        "\n",
        "cursor.execute('''INSERT INTO STUDENT VALUES('Adam','10','A')''')\n",
        "cursor.execute('''INSERT INTO STUDENT VALUES('Adam','8','B')''')\n",
        "cursor.execute('''INSERT INTO STUDENT VALUES('Adam','10','A')''')\n",
        "\n",
        "cursor.execute('SELECT *FROM STUDENT ORDER BY NAME DESC')\n",
        "\n",
        "print(cursor.fetchall())\n",
        "conn.commit()\n",
        "conn.close()"
      ],
      "metadata": {
        "colab": {
          "base_uri": "https://localhost:8080/"
        },
        "id": "2IXb98oMF2Q4",
        "outputId": "362e6902-337f-4185-e80a-6752f5f6e75d"
      },
      "execution_count": 19,
      "outputs": [
        {
          "output_type": "stream",
          "name": "stdout",
          "text": [
            "[('John', '8', 'A'), ('John', '8', 'A'), ('John', '8', 'A'), ('John', '8', 'A'), ('Ann', '10', 'A'), ('Ann', '10', 'A'), ('Ann', '10', 'A'), ('Ann', '10', 'A'), ('Adam', '8', 'B'), ('Adam', '8', 'B'), ('Adam', '8', 'B'), ('Adam', '8', 'B'), ('Adam', '10', 'A'), ('Adam', '8', 'B'), ('Adam', '10', 'A'), ('Adam', '10', 'A'), ('Adam', '8', 'B'), ('Adam', '10', 'A'), ('Adam', '10', 'A'), ('Adam', '8', 'B'), ('Adam', '10', 'A')]\n"
          ]
        }
      ]
    },
    {
      "cell_type": "code",
      "source": [
        ""
      ],
      "metadata": {
        "id": "7FV-FsKiGxbI"
      },
      "execution_count": null,
      "outputs": []
    }
  ]
}